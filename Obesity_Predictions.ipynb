{
 "cells": [
  {
   "cell_type": "markdown",
   "id": "c1a08017",
   "metadata": {},
   "source": [
    "Before you turn this problem in, make sure everything runs as expected. First, **restart the kernel** (in the menubar, select Kernel $\\rightarrow$ Restart) and then **run all cells** (in the menubar, select Cell $\\rightarrow$ Run All).\n",
    "\n",
    "Make sure you fill in any place that says `YOUR CODE HERE` or \"YOUR ANSWER HERE\", as well as your name and collaborators below:"
   ]
  },
  {
   "cell_type": "code",
   "execution_count": 1,
   "id": "f8756ad5",
   "metadata": {},
   "outputs": [],
   "source": [
    "NAME = \"Vaidehi Patel\"\n",
    "COLLABORATORS = \"Sowmya Vijayasundaram\""
   ]
  },
  {
   "cell_type": "markdown",
   "id": "57db5091-54dd-44a0-ac61-edff9706fe66",
   "metadata": {},
   "source": [
    "# Project Overview\n",
    "\n",
    "## Contents:\n",
    "\n",
    "1. EDA/Database Setup and Management\n",
    "2. Data Cleaning\n",
    "3. Data Transformation\n",
    "4. Graphs\n",
    "5. Model Training\n",
    "6. Model Evaluation\n",
    "7. Optimization\n",
    "\n",
    "## Objective:\n",
    "Obesity is a critical public health issue with significant physical and mental health implications, including increased risks for heart disease, Type 2 diabetes, and sleep apnea. Our goal is to predict obesity levels from a dataset containing various features such as age, gender, and responses to lifestyle-related questions. "
   ]
  },
  {
   "cell_type": "code",
   "execution_count": 2,
   "id": "b0194651-7495-41da-a881-1b9439a48e0b",
   "metadata": {},
   "outputs": [],
   "source": [
    "import importlib\n",
    "import subprocess\n",
    "\n",
    "def install_and_import(package):\n",
    "    try:\n",
    "        importlib.import_module(package)\n",
    "    except ImportError:\n",
    "        subprocess.check_call([\"pip\", \"install\", package])\n",
    "    finally:\n",
    "        globals()[package] = importlib.import_module(package)\n",
    "\n",
    "# List of required packages \n",
    "required_packages = {\n",
    "    \"pandas\": \"pd\", \n",
    "    \"numpy\": \"np\", \n",
    "    \"sqlite3\": \"sqlite3\",\n",
    "    \"sklearn.model_selection\": \"train_test_split\", \n",
    "    \"sklearn.metrics\": \"accuracy_score\",  \n",
    "    \"statsmodels\": \"sm\", \n",
    "    \"matplotlib.pyplot\": \"plt\", \n",
    "    \"seaborn\": \"sns\",\n",
    "    \"kagglehub\": \"kagglehub\"\n",
    "}\n",
    "\n",
    "for package, alias in required_packages.items():\n",
    "    module_name = package.split(\".\")[0]\n",
    "    install_and_import(module_name)\n",
    "\n",
    "import pandas as pd\n",
    "import numpy as np\n",
    "import sqlite3\n",
    "from sklearn.model_selection import train_test_split\n",
    "from sklearn.metrics import classification_report, accuracy_score\n",
    "from sklearn.preprocessing import StandardScaler\n",
    "from sklearn.model_selection import GridSearchCV\n",
    "from sklearn.linear_model import LogisticRegression\n",
    "from sklearn.ensemble import RandomForestClassifier\n",
    "from sklearn.neighbors import KNeighborsClassifier\n",
    "from sklearn.preprocessing import LabelEncoder\n",
    "\n",
    "from scipy.stats import zscore\n",
    "import statsmodels.api as sm\n",
    "import matplotlib.pyplot as plt\n",
    "import seaborn as sns\n",
    "import kagglehub"
   ]
  },
  {
   "cell_type": "code",
   "execution_count": 3,
   "id": "10ce12ba-46e5-4acb-8e4c-f173f4a28011",
   "metadata": {},
   "outputs": [],
   "source": [
    "# Step 1: Load Kaggle Data into DataFrame\n",
    "# Download the dataset\n",
    "path = kagglehub.dataset_download(\"fatemehmehrparvar/obesity-levels\")\n",
    "\n",
    "csv_file_path = f\"{path}/ObesityDataSet_raw_and_data_sinthetic.csv\"\n",
    "data = pd.read_csv(csv_file_path)"
   ]
  },
  {
   "cell_type": "code",
   "execution_count": 4,
   "id": "86b98dbd-7573-4012-a203-59b0c847668e",
   "metadata": {},
   "outputs": [
    {
     "name": "stdout",
     "output_type": "stream",
     "text": [
      "<class 'pandas.core.frame.DataFrame'>\n",
      "RangeIndex: 2111 entries, 0 to 2110\n",
      "Data columns (total 17 columns):\n",
      " #   Column                          Non-Null Count  Dtype  \n",
      "---  ------                          --------------  -----  \n",
      " 0   Age                             2111 non-null   float64\n",
      " 1   Gender                          2111 non-null   object \n",
      " 2   Height                          2111 non-null   float64\n",
      " 3   Weight                          2111 non-null   float64\n",
      " 4   CALC                            2111 non-null   object \n",
      " 5   FAVC                            2111 non-null   object \n",
      " 6   FCVC                            2111 non-null   float64\n",
      " 7   NCP                             2111 non-null   float64\n",
      " 8   SCC                             2111 non-null   object \n",
      " 9   SMOKE                           2111 non-null   object \n",
      " 10  CH2O                            2111 non-null   float64\n",
      " 11  family_history_with_overweight  2111 non-null   object \n",
      " 12  FAF                             2111 non-null   float64\n",
      " 13  TUE                             2111 non-null   float64\n",
      " 14  CAEC                            2111 non-null   object \n",
      " 15  MTRANS                          2111 non-null   object \n",
      " 16  NObeyesdad                      2111 non-null   object \n",
      "dtypes: float64(8), object(9)\n",
      "memory usage: 280.5+ KB\n"
     ]
    }
   ],
   "source": [
    "data.info()"
   ]
  },
  {
   "cell_type": "code",
   "execution_count": 5,
   "id": "4306783a-a3b0-4c9c-8da7-200018a87c9e",
   "metadata": {},
   "outputs": [
    {
     "data": {
      "text/html": [
       "<div>\n",
       "<style scoped>\n",
       "    .dataframe tbody tr th:only-of-type {\n",
       "        vertical-align: middle;\n",
       "    }\n",
       "\n",
       "    .dataframe tbody tr th {\n",
       "        vertical-align: top;\n",
       "    }\n",
       "\n",
       "    .dataframe thead th {\n",
       "        text-align: right;\n",
       "    }\n",
       "</style>\n",
       "<table border=\"1\" class=\"dataframe\">\n",
       "  <thead>\n",
       "    <tr style=\"text-align: right;\">\n",
       "      <th></th>\n",
       "      <th>Age</th>\n",
       "      <th>Gender</th>\n",
       "      <th>Height</th>\n",
       "      <th>Weight</th>\n",
       "      <th>CALC</th>\n",
       "      <th>FAVC</th>\n",
       "      <th>FCVC</th>\n",
       "      <th>NCP</th>\n",
       "      <th>SCC</th>\n",
       "      <th>SMOKE</th>\n",
       "      <th>CH2O</th>\n",
       "      <th>family_history_with_overweight</th>\n",
       "      <th>FAF</th>\n",
       "      <th>TUE</th>\n",
       "      <th>CAEC</th>\n",
       "      <th>MTRANS</th>\n",
       "      <th>NObeyesdad</th>\n",
       "    </tr>\n",
       "  </thead>\n",
       "  <tbody>\n",
       "    <tr>\n",
       "      <th>0</th>\n",
       "      <td>21.0</td>\n",
       "      <td>Female</td>\n",
       "      <td>1.62</td>\n",
       "      <td>64.0</td>\n",
       "      <td>no</td>\n",
       "      <td>no</td>\n",
       "      <td>2.0</td>\n",
       "      <td>3.0</td>\n",
       "      <td>no</td>\n",
       "      <td>no</td>\n",
       "      <td>2.0</td>\n",
       "      <td>yes</td>\n",
       "      <td>0.0</td>\n",
       "      <td>1.0</td>\n",
       "      <td>Sometimes</td>\n",
       "      <td>Public_Transportation</td>\n",
       "      <td>Normal_Weight</td>\n",
       "    </tr>\n",
       "    <tr>\n",
       "      <th>1</th>\n",
       "      <td>21.0</td>\n",
       "      <td>Female</td>\n",
       "      <td>1.52</td>\n",
       "      <td>56.0</td>\n",
       "      <td>Sometimes</td>\n",
       "      <td>no</td>\n",
       "      <td>3.0</td>\n",
       "      <td>3.0</td>\n",
       "      <td>yes</td>\n",
       "      <td>yes</td>\n",
       "      <td>3.0</td>\n",
       "      <td>yes</td>\n",
       "      <td>3.0</td>\n",
       "      <td>0.0</td>\n",
       "      <td>Sometimes</td>\n",
       "      <td>Public_Transportation</td>\n",
       "      <td>Normal_Weight</td>\n",
       "    </tr>\n",
       "    <tr>\n",
       "      <th>2</th>\n",
       "      <td>23.0</td>\n",
       "      <td>Male</td>\n",
       "      <td>1.80</td>\n",
       "      <td>77.0</td>\n",
       "      <td>Frequently</td>\n",
       "      <td>no</td>\n",
       "      <td>2.0</td>\n",
       "      <td>3.0</td>\n",
       "      <td>no</td>\n",
       "      <td>no</td>\n",
       "      <td>2.0</td>\n",
       "      <td>yes</td>\n",
       "      <td>2.0</td>\n",
       "      <td>1.0</td>\n",
       "      <td>Sometimes</td>\n",
       "      <td>Public_Transportation</td>\n",
       "      <td>Normal_Weight</td>\n",
       "    </tr>\n",
       "    <tr>\n",
       "      <th>3</th>\n",
       "      <td>27.0</td>\n",
       "      <td>Male</td>\n",
       "      <td>1.80</td>\n",
       "      <td>87.0</td>\n",
       "      <td>Frequently</td>\n",
       "      <td>no</td>\n",
       "      <td>3.0</td>\n",
       "      <td>3.0</td>\n",
       "      <td>no</td>\n",
       "      <td>no</td>\n",
       "      <td>2.0</td>\n",
       "      <td>no</td>\n",
       "      <td>2.0</td>\n",
       "      <td>0.0</td>\n",
       "      <td>Sometimes</td>\n",
       "      <td>Walking</td>\n",
       "      <td>Overweight_Level_I</td>\n",
       "    </tr>\n",
       "    <tr>\n",
       "      <th>4</th>\n",
       "      <td>22.0</td>\n",
       "      <td>Male</td>\n",
       "      <td>1.78</td>\n",
       "      <td>89.8</td>\n",
       "      <td>Sometimes</td>\n",
       "      <td>no</td>\n",
       "      <td>2.0</td>\n",
       "      <td>1.0</td>\n",
       "      <td>no</td>\n",
       "      <td>no</td>\n",
       "      <td>2.0</td>\n",
       "      <td>no</td>\n",
       "      <td>0.0</td>\n",
       "      <td>0.0</td>\n",
       "      <td>Sometimes</td>\n",
       "      <td>Public_Transportation</td>\n",
       "      <td>Overweight_Level_II</td>\n",
       "    </tr>\n",
       "  </tbody>\n",
       "</table>\n",
       "</div>"
      ],
      "text/plain": [
       "    Age  Gender  Height  Weight        CALC FAVC  FCVC  NCP  SCC SMOKE  CH2O  \\\n",
       "0  21.0  Female    1.62    64.0          no   no   2.0  3.0   no    no   2.0   \n",
       "1  21.0  Female    1.52    56.0   Sometimes   no   3.0  3.0  yes   yes   3.0   \n",
       "2  23.0    Male    1.80    77.0  Frequently   no   2.0  3.0   no    no   2.0   \n",
       "3  27.0    Male    1.80    87.0  Frequently   no   3.0  3.0   no    no   2.0   \n",
       "4  22.0    Male    1.78    89.8   Sometimes   no   2.0  1.0   no    no   2.0   \n",
       "\n",
       "  family_history_with_overweight  FAF  TUE       CAEC                 MTRANS  \\\n",
       "0                            yes  0.0  1.0  Sometimes  Public_Transportation   \n",
       "1                            yes  3.0  0.0  Sometimes  Public_Transportation   \n",
       "2                            yes  2.0  1.0  Sometimes  Public_Transportation   \n",
       "3                             no  2.0  0.0  Sometimes                Walking   \n",
       "4                             no  0.0  0.0  Sometimes  Public_Transportation   \n",
       "\n",
       "            NObeyesdad  \n",
       "0        Normal_Weight  \n",
       "1        Normal_Weight  \n",
       "2        Normal_Weight  \n",
       "3   Overweight_Level_I  \n",
       "4  Overweight_Level_II  "
      ]
     },
     "execution_count": 5,
     "metadata": {},
     "output_type": "execute_result"
    }
   ],
   "source": [
    "data.head()"
   ]
  },
  {
   "cell_type": "code",
   "execution_count": 6,
   "id": "d69675c5-9d79-4a1c-b555-95b576b10cae",
   "metadata": {},
   "outputs": [
    {
     "data": {
      "text/plain": [
       "(2111, 17)"
      ]
     },
     "execution_count": 6,
     "metadata": {},
     "output_type": "execute_result"
    }
   ],
   "source": [
    "data.shape"
   ]
  },
  {
   "cell_type": "code",
   "execution_count": 7,
   "id": "0790becc-37ac-486f-b160-0b44188f4e3e",
   "metadata": {},
   "outputs": [
    {
     "data": {
      "text/plain": [
       "24"
      ]
     },
     "execution_count": 7,
     "metadata": {},
     "output_type": "execute_result"
    }
   ],
   "source": [
    "data.duplicated().sum()"
   ]
  },
  {
   "cell_type": "code",
   "execution_count": 8,
   "id": "edcd8839-2b31-4ff2-a9b3-6b0905277cc8",
   "metadata": {},
   "outputs": [
    {
     "data": {
      "text/html": [
       "<div>\n",
       "<style scoped>\n",
       "    .dataframe tbody tr th:only-of-type {\n",
       "        vertical-align: middle;\n",
       "    }\n",
       "\n",
       "    .dataframe tbody tr th {\n",
       "        vertical-align: top;\n",
       "    }\n",
       "\n",
       "    .dataframe thead th {\n",
       "        text-align: right;\n",
       "    }\n",
       "</style>\n",
       "<table border=\"1\" class=\"dataframe\">\n",
       "  <thead>\n",
       "    <tr style=\"text-align: right;\">\n",
       "      <th></th>\n",
       "      <th>Age</th>\n",
       "      <th>Height</th>\n",
       "      <th>Weight</th>\n",
       "      <th>FCVC</th>\n",
       "      <th>NCP</th>\n",
       "      <th>CH2O</th>\n",
       "      <th>FAF</th>\n",
       "      <th>TUE</th>\n",
       "    </tr>\n",
       "  </thead>\n",
       "  <tbody>\n",
       "    <tr>\n",
       "      <th>count</th>\n",
       "      <td>2111.000000</td>\n",
       "      <td>2111.000000</td>\n",
       "      <td>2111.000000</td>\n",
       "      <td>2111.000000</td>\n",
       "      <td>2111.000000</td>\n",
       "      <td>2111.000000</td>\n",
       "      <td>2111.000000</td>\n",
       "      <td>2111.000000</td>\n",
       "    </tr>\n",
       "    <tr>\n",
       "      <th>mean</th>\n",
       "      <td>24.312600</td>\n",
       "      <td>1.701677</td>\n",
       "      <td>86.586058</td>\n",
       "      <td>2.419043</td>\n",
       "      <td>2.685628</td>\n",
       "      <td>2.008011</td>\n",
       "      <td>1.010298</td>\n",
       "      <td>0.657866</td>\n",
       "    </tr>\n",
       "    <tr>\n",
       "      <th>std</th>\n",
       "      <td>6.345968</td>\n",
       "      <td>0.093305</td>\n",
       "      <td>26.191172</td>\n",
       "      <td>0.533927</td>\n",
       "      <td>0.778039</td>\n",
       "      <td>0.612953</td>\n",
       "      <td>0.850592</td>\n",
       "      <td>0.608927</td>\n",
       "    </tr>\n",
       "    <tr>\n",
       "      <th>min</th>\n",
       "      <td>14.000000</td>\n",
       "      <td>1.450000</td>\n",
       "      <td>39.000000</td>\n",
       "      <td>1.000000</td>\n",
       "      <td>1.000000</td>\n",
       "      <td>1.000000</td>\n",
       "      <td>0.000000</td>\n",
       "      <td>0.000000</td>\n",
       "    </tr>\n",
       "    <tr>\n",
       "      <th>25%</th>\n",
       "      <td>19.947192</td>\n",
       "      <td>1.630000</td>\n",
       "      <td>65.473343</td>\n",
       "      <td>2.000000</td>\n",
       "      <td>2.658738</td>\n",
       "      <td>1.584812</td>\n",
       "      <td>0.124505</td>\n",
       "      <td>0.000000</td>\n",
       "    </tr>\n",
       "    <tr>\n",
       "      <th>50%</th>\n",
       "      <td>22.777890</td>\n",
       "      <td>1.700499</td>\n",
       "      <td>83.000000</td>\n",
       "      <td>2.385502</td>\n",
       "      <td>3.000000</td>\n",
       "      <td>2.000000</td>\n",
       "      <td>1.000000</td>\n",
       "      <td>0.625350</td>\n",
       "    </tr>\n",
       "    <tr>\n",
       "      <th>75%</th>\n",
       "      <td>26.000000</td>\n",
       "      <td>1.768464</td>\n",
       "      <td>107.430682</td>\n",
       "      <td>3.000000</td>\n",
       "      <td>3.000000</td>\n",
       "      <td>2.477420</td>\n",
       "      <td>1.666678</td>\n",
       "      <td>1.000000</td>\n",
       "    </tr>\n",
       "    <tr>\n",
       "      <th>max</th>\n",
       "      <td>61.000000</td>\n",
       "      <td>1.980000</td>\n",
       "      <td>173.000000</td>\n",
       "      <td>3.000000</td>\n",
       "      <td>4.000000</td>\n",
       "      <td>3.000000</td>\n",
       "      <td>3.000000</td>\n",
       "      <td>2.000000</td>\n",
       "    </tr>\n",
       "  </tbody>\n",
       "</table>\n",
       "</div>"
      ],
      "text/plain": [
       "               Age       Height       Weight         FCVC          NCP  \\\n",
       "count  2111.000000  2111.000000  2111.000000  2111.000000  2111.000000   \n",
       "mean     24.312600     1.701677    86.586058     2.419043     2.685628   \n",
       "std       6.345968     0.093305    26.191172     0.533927     0.778039   \n",
       "min      14.000000     1.450000    39.000000     1.000000     1.000000   \n",
       "25%      19.947192     1.630000    65.473343     2.000000     2.658738   \n",
       "50%      22.777890     1.700499    83.000000     2.385502     3.000000   \n",
       "75%      26.000000     1.768464   107.430682     3.000000     3.000000   \n",
       "max      61.000000     1.980000   173.000000     3.000000     4.000000   \n",
       "\n",
       "              CH2O          FAF          TUE  \n",
       "count  2111.000000  2111.000000  2111.000000  \n",
       "mean      2.008011     1.010298     0.657866  \n",
       "std       0.612953     0.850592     0.608927  \n",
       "min       1.000000     0.000000     0.000000  \n",
       "25%       1.584812     0.124505     0.000000  \n",
       "50%       2.000000     1.000000     0.625350  \n",
       "75%       2.477420     1.666678     1.000000  \n",
       "max       3.000000     3.000000     2.000000  "
      ]
     },
     "execution_count": 8,
     "metadata": {},
     "output_type": "execute_result"
    }
   ],
   "source": [
    "data.describe()"
   ]
  },
  {
   "cell_type": "code",
   "execution_count": 9,
   "id": "f8ae6841-9a86-4ebd-ac49-5b0cf7b55ec1",
   "metadata": {},
   "outputs": [
    {
     "data": {
      "text/plain": [
       "Age                               False\n",
       "Gender                            False\n",
       "Height                            False\n",
       "Weight                            False\n",
       "CALC                              False\n",
       "FAVC                              False\n",
       "FCVC                              False\n",
       "NCP                               False\n",
       "SCC                               False\n",
       "SMOKE                             False\n",
       "CH2O                              False\n",
       "family_history_with_overweight    False\n",
       "FAF                               False\n",
       "TUE                               False\n",
       "CAEC                              False\n",
       "MTRANS                            False\n",
       "NObeyesdad                        False\n",
       "dtype: bool"
      ]
     },
     "execution_count": 9,
     "metadata": {},
     "output_type": "execute_result"
    }
   ],
   "source": [
    "data.isnull().any()"
   ]
  },
  {
   "cell_type": "code",
   "execution_count": 10,
   "id": "d061de04-235d-414a-818a-a0ae2c34f7e2",
   "metadata": {},
   "outputs": [
    {
     "data": {
      "text/plain": [
       "Age                               0\n",
       "Gender                            0\n",
       "Height                            0\n",
       "Weight                            0\n",
       "CALC                              0\n",
       "FAVC                              0\n",
       "FCVC                              0\n",
       "NCP                               0\n",
       "SCC                               0\n",
       "SMOKE                             0\n",
       "CH2O                              0\n",
       "family_history_with_overweight    0\n",
       "FAF                               0\n",
       "TUE                               0\n",
       "CAEC                              0\n",
       "MTRANS                            0\n",
       "NObeyesdad                        0\n",
       "dtype: int64"
      ]
     },
     "execution_count": 10,
     "metadata": {},
     "output_type": "execute_result"
    }
   ],
   "source": [
    "data.isnull().sum()"
   ]
  },
  {
   "cell_type": "code",
   "execution_count": 11,
   "id": "c0a93c4f-ca26-439c-bfcb-97c056be8937",
   "metadata": {},
   "outputs": [
    {
     "name": "stdout",
     "output_type": "stream",
     "text": [
      "Data loaded into the database obesity.db successfully!\n",
      "Data loaded successfully from the database.\n",
      "    Age  Gender  Height  Weight        CALC FAVC  FCVC  NCP  SCC SMOKE  CH2O  \\\n",
      "0  21.0  Female    1.62    64.0          no   no   2.0  3.0   no    no   2.0   \n",
      "1  21.0  Female    1.52    56.0   Sometimes   no   3.0  3.0  yes   yes   3.0   \n",
      "2  23.0    Male    1.80    77.0  Frequently   no   2.0  3.0   no    no   2.0   \n",
      "3  27.0    Male    1.80    87.0  Frequently   no   3.0  3.0   no    no   2.0   \n",
      "4  22.0    Male    1.78    89.8   Sometimes   no   2.0  1.0   no    no   2.0   \n",
      "5  29.0    Male    1.62    53.0   Sometimes  yes   2.0  3.0   no    no   2.0   \n",
      "6  23.0  Female    1.50    55.0   Sometimes  yes   3.0  3.0   no    no   2.0   \n",
      "7  22.0    Male    1.64    53.0   Sometimes   no   2.0  3.0   no    no   2.0   \n",
      "8  24.0    Male    1.78    64.0  Frequently  yes   3.0  3.0   no    no   2.0   \n",
      "9  22.0    Male    1.72    68.0          no  yes   2.0  3.0   no    no   2.0   \n",
      "\n",
      "  family_history_with_overweight  FAF  TUE       CAEC                 MTRANS  \\\n",
      "0                            yes  0.0  1.0  Sometimes  Public_Transportation   \n",
      "1                            yes  3.0  0.0  Sometimes  Public_Transportation   \n",
      "2                            yes  2.0  1.0  Sometimes  Public_Transportation   \n",
      "3                             no  2.0  0.0  Sometimes                Walking   \n",
      "4                             no  0.0  0.0  Sometimes  Public_Transportation   \n",
      "5                             no  0.0  0.0  Sometimes             Automobile   \n",
      "6                            yes  1.0  0.0  Sometimes              Motorbike   \n",
      "7                             no  3.0  0.0  Sometimes  Public_Transportation   \n",
      "8                            yes  1.0  1.0  Sometimes  Public_Transportation   \n",
      "9                            yes  1.0  1.0  Sometimes  Public_Transportation   \n",
      "\n",
      "            NObeyesdad  \n",
      "0        Normal_Weight  \n",
      "1        Normal_Weight  \n",
      "2        Normal_Weight  \n",
      "3   Overweight_Level_I  \n",
      "4  Overweight_Level_II  \n",
      "5        Normal_Weight  \n",
      "6        Normal_Weight  \n",
      "7        Normal_Weight  \n",
      "8        Normal_Weight  \n",
      "9        Normal_Weight  \n"
     ]
    },
    {
     "data": {
      "text/plain": [
       "(2111, 17)"
      ]
     },
     "execution_count": 11,
     "metadata": {},
     "output_type": "execute_result"
    }
   ],
   "source": [
    "def build_obesity_database(db_name, csv_file_path):\n",
    "    # Create SQLite database connection\n",
    "    conn = sqlite3.connect(db_name)\n",
    "    cursor = conn.cursor()\n",
    "\n",
    "    # Create obesity table\n",
    "    cursor.execute(\"\"\"\n",
    "    CREATE TABLE IF NOT EXISTS obesity_data (\n",
    "        id INTEGER PRIMARY KEY AUTOINCREMENT,\n",
    "        Age INTEGER,\n",
    "        Gender TEXT,\n",
    "        Height REAL,\n",
    "        Weight REAL,\n",
    "        CALC TEXT,\n",
    "        FAVC TEXT,\n",
    "        FCVC INTEGER,\n",
    "        NCP INTEGER,\n",
    "        SCC TEXT,\n",
    "        SMOKE TEXT,\n",
    "        CH2O INTEGER,\n",
    "        family_history_with_overweight TEXT,\n",
    "        FAF INTEGER,\n",
    "        TUE INTEGER,\n",
    "        CAEC TEXT,\n",
    "        MTRANS TEXT,\n",
    "        NObeyesdad TEXT\n",
    "    )\n",
    "    \"\"\")\n",
    "\n",
    "    # Load data from CSV into SQLite\n",
    "    data.to_sql(\"obesity_data\", conn, if_exists=\"replace\", index=False)\n",
    "    print(f\"Data loaded into the database {db_name} successfully!\")\n",
    "\n",
    "    conn.commit()\n",
    "    conn.close()\n",
    "\n",
    "# Create database and load data\n",
    "database_name = \"obesity.db\"\n",
    "build_obesity_database(database_name, csv_file_path)\n",
    "\n",
    "def load_data_from_db(db_name):\n",
    "    conn = sqlite3.connect(db_name)\n",
    "    query = \"SELECT * FROM obesity_data\"\n",
    "    data = pd.read_sql_query(query, conn)\n",
    "    conn.close()\n",
    "    print(\"Data loaded successfully from the database.\")\n",
    "    return data\n",
    "\n",
    "# Load and display data from the database\n",
    "obesity_data_from_db = load_data_from_db(database_name)\n",
    "print(obesity_data_from_db.head(10))\n",
    "obesity_data_from_db.shape"
   ]
  },
  {
   "cell_type": "code",
   "execution_count": 12,
   "id": "03833ad5-b528-4b00-9621-b84d5df81914",
   "metadata": {},
   "outputs": [
    {
     "name": "stdout",
     "output_type": "stream",
     "text": [
      "    Age  Gender  Height  Weight        CALC FAVC  FCVC  NCP  SCC SMOKE  CH2O  \\\n",
      "0  21.0  Female    1.62    64.0          no   no   2.0  3.0   no    no   2.0   \n",
      "1  21.0  Female    1.52    56.0   Sometimes   no   3.0  3.0  yes   yes   3.0   \n",
      "2  23.0    Male    1.80    77.0  Frequently   no   2.0  3.0   no    no   2.0   \n",
      "3  27.0    Male    1.80    87.0  Frequently   no   3.0  3.0   no    no   2.0   \n",
      "4  22.0    Male    1.78    89.8   Sometimes   no   2.0  1.0   no    no   2.0   \n",
      "\n",
      "  family_history_with_overweight  FAF  TUE       CAEC                 MTRANS  \\\n",
      "0                            yes  0.0  1.0  Sometimes  Public_Transportation   \n",
      "1                            yes  3.0  0.0  Sometimes  Public_Transportation   \n",
      "2                            yes  2.0  1.0  Sometimes  Public_Transportation   \n",
      "3                             no  2.0  0.0  Sometimes                Walking   \n",
      "4                             no  0.0  0.0  Sometimes  Public_Transportation   \n",
      "\n",
      "            NObeyesdad  \n",
      "0        Normal_Weight  \n",
      "1        Normal_Weight  \n",
      "2        Normal_Weight  \n",
      "3   Overweight_Level_I  \n",
      "4  Overweight_Level_II  \n"
     ]
    }
   ],
   "source": [
    "def retrieve_all_data(db_name):\n",
    "    conn = sqlite3.connect(db_name)\n",
    "    query = \"SELECT * FROM obesity_data\"\n",
    "    data = pd.read_sql_query(query, conn)\n",
    "    conn.close()\n",
    "    return data\n",
    "\n",
    "all_data = retrieve_all_data(database_name)\n",
    "print(all_data.head())"
   ]
  },
  {
   "cell_type": "code",
   "execution_count": 13,
   "id": "37d9faf8-b064-4d17-b7e9-8ab54dd62c1b",
   "metadata": {},
   "outputs": [
    {
     "name": "stdout",
     "output_type": "stream",
     "text": [
      "           Age  Gender    Height      Weight       CALC FAVC  FCVC  NCP SCC  \\\n",
      "0    26.000000  Female  1.560000  102.000000  Sometimes  yes   3.0  3.0  no   \n",
      "1    18.000000    Male  1.870000  173.000000  Sometimes  yes   3.0  3.0  no   \n",
      "2    26.000000  Female  1.660000  112.000000         no   no   3.0  3.0  no   \n",
      "3    18.503343  Female  1.683124  126.673780  Sometimes  yes   3.0  3.0  no   \n",
      "4    26.000000  Female  1.622397  110.792630  Sometimes  yes   3.0  3.0  no   \n",
      "..         ...     ...       ...         ...        ...  ...   ...  ...  ..   \n",
      "263  20.976842  Female  1.710730  131.408528  Sometimes  yes   3.0  3.0  no   \n",
      "264  21.982942  Female  1.748584  133.742943  Sometimes  yes   3.0  3.0  no   \n",
      "265  22.524036  Female  1.752206  133.689352  Sometimes  yes   3.0  3.0  no   \n",
      "266  24.361936  Female  1.739450  133.346641  Sometimes  yes   3.0  3.0  no   \n",
      "267  23.664709  Female  1.738836  133.472641  Sometimes  yes   3.0  3.0  no   \n",
      "\n",
      "    SMOKE      CH2O family_history_with_overweight       FAF       TUE  \\\n",
      "0     yes  1.000000                            yes  0.000000  1.000000   \n",
      "1      no  2.000000                            yes  2.000000  1.000000   \n",
      "2      no  3.000000                            yes  0.000000  0.000000   \n",
      "3      no  1.115967                            yes  1.541072  1.000000   \n",
      "4      no  2.704507                            yes  0.000000  0.294990   \n",
      "..    ...       ...                            ...       ...       ...   \n",
      "263    no  1.728139                            yes  1.676269  0.906247   \n",
      "264    no  2.005130                            yes  1.341390  0.599270   \n",
      "265    no  2.054193                            yes  1.414209  0.646288   \n",
      "266    no  2.852339                            yes  1.139107  0.586035   \n",
      "267    no  2.863513                            yes  1.026452  0.714137   \n",
      "\n",
      "           CAEC                 MTRANS        NObeyesdad  \n",
      "0     Sometimes  Public_Transportation  Obesity_Type_III  \n",
      "1    Frequently  Public_Transportation  Obesity_Type_III  \n",
      "2     Sometimes             Automobile  Obesity_Type_III  \n",
      "3     Sometimes  Public_Transportation  Obesity_Type_III  \n",
      "4     Sometimes  Public_Transportation  Obesity_Type_III  \n",
      "..          ...                    ...               ...  \n",
      "263   Sometimes  Public_Transportation  Obesity_Type_III  \n",
      "264   Sometimes  Public_Transportation  Obesity_Type_III  \n",
      "265   Sometimes  Public_Transportation  Obesity_Type_III  \n",
      "266   Sometimes  Public_Transportation  Obesity_Type_III  \n",
      "267   Sometimes  Public_Transportation  Obesity_Type_III  \n",
      "\n",
      "[268 rows x 17 columns]\n"
     ]
    }
   ],
   "source": [
    "def query_bmi_outliers(db_name):\n",
    "    conn = sqlite3.connect(db_name)\n",
    "    query = \"\"\"\n",
    "    SELECT *\n",
    "    FROM obesity_data\n",
    "    WHERE (Weight / (Height * Height)) > 40 OR (Weight / (Height * Height)) < 10;\n",
    "    \"\"\"\n",
    "    data = pd.read_sql_query(query, conn)\n",
    "    conn.close()\n",
    "    return data\n",
    "\n",
    "bmi_outliers = query_bmi_outliers(database_name)\n",
    "print(bmi_outliers)"
   ]
  },
  {
   "cell_type": "code",
   "execution_count": 14,
   "id": "6338f582-a877-4fa4-84c6-adea315df35e",
   "metadata": {},
   "outputs": [
    {
     "name": "stdout",
     "output_type": "stream",
     "text": [
      "  Age_Group    Avg_BMI\n",
      "0     18-25  28.195510\n",
      "1     26-35  33.253786\n",
      "2     36-45  31.440292\n",
      "3       46+  30.079753\n"
     ]
    }
   ],
   "source": [
    "def avg_bmi_by_age_group(db_name):\n",
    "    conn = sqlite3.connect(db_name)\n",
    "    query = \"\"\"\n",
    "    SELECT \n",
    "        CASE \n",
    "            WHEN Age BETWEEN 18 AND 25 THEN '18-25'\n",
    "            WHEN Age BETWEEN 26 AND 35 THEN '26-35'\n",
    "            WHEN Age BETWEEN 36 AND 45 THEN '36-45'\n",
    "            ELSE '46+' \n",
    "        END AS Age_Group,\n",
    "        AVG(Weight / (Height * Height)) AS Avg_BMI\n",
    "    FROM obesity_data\n",
    "    GROUP BY Age_Group;\n",
    "    \"\"\"\n",
    "    data = pd.read_sql_query(query, conn)\n",
    "    conn.close()\n",
    "    return data\n",
    "\n",
    "avg_bmi_age_group = avg_bmi_by_age_group(database_name)\n",
    "print(avg_bmi_age_group)"
   ]
  },
  {
   "cell_type": "code",
   "execution_count": 15,
   "id": "f58a3a0f-2b69-4fa4-b511-1b2113634449",
   "metadata": {},
   "outputs": [
    {
     "name": "stdout",
     "output_type": "stream",
     "text": [
      "   Gender  Average_BMI\n",
      "0  Female    30.130002\n",
      "1    Male    29.280377\n"
     ]
    }
   ],
   "source": [
    "# SQL Queries to see relationships\n",
    "conn = sqlite3.connect(database_name)\n",
    "\n",
    "# Average BMI by gender\n",
    "query = \"\"\"\n",
    "SELECT Gender, AVG(Weight / (Height * Height)) AS Average_BMI\n",
    "FROM obesity_data\n",
    "GROUP BY Gender;\n",
    "\"\"\"\n",
    "gender_bmi_avg = pd.read_sql_query(query, conn)\n",
    "print(gender_bmi_avg)"
   ]
  },
  {
   "cell_type": "code",
   "execution_count": 16,
   "id": "8647a41c-e1d8-41af-ba11-79765363e9c4",
   "metadata": {},
   "outputs": [
    {
     "name": "stdout",
     "output_type": "stream",
     "text": [
      "Data cleaning and feature engineering completed.\n",
      "Shape of data after cleaning: (2087, 18)\n",
      "    Age  Gender  Height  Weight  CALC  FAVC  FCVC  NCP  SCC  SMOKE  CH2O  \\\n",
      "0  21.0       0    1.62    64.0     3     0   2.0  3.0    0      0   2.0   \n",
      "1  21.0       0    1.52    56.0     2     0   3.0  3.0    1      1   3.0   \n",
      "2  23.0       1    1.80    77.0     1     0   2.0  3.0    0      0   2.0   \n",
      "3  27.0       1    1.80    87.0     1     0   3.0  3.0    0      0   2.0   \n",
      "4  22.0       1    1.78    89.8     2     0   2.0  1.0    0      0   2.0   \n",
      "\n",
      "   family_history_with_overweight  FAF  TUE  CAEC  MTRANS  NObeyesdad  \\\n",
      "0                               1  0.0  1.0     2       3           1   \n",
      "1                               1  3.0  0.0     2       3           1   \n",
      "2                               1  2.0  1.0     2       3           1   \n",
      "3                               0  2.0  0.0     2       4           5   \n",
      "4                               0  0.0  0.0     2       3           6   \n",
      "\n",
      "         BMI  \n",
      "0  24.386526  \n",
      "1  24.238227  \n",
      "2  23.765432  \n",
      "3  26.851852  \n",
      "4  28.342381  \n"
     ]
    },
    {
     "data": {
      "text/plain": [
       "(2087, 18)"
      ]
     },
     "execution_count": 16,
     "metadata": {},
     "output_type": "execute_result"
    }
   ],
   "source": [
    "# Step 2/3: Data cleaning/Transformation\n",
    "\n",
    "def clean_and_preprocess_data(data):\n",
    "    # Handle missing values, not needed in this case\n",
    "    data.fillna(data.mean(numeric_only=True), inplace=True) \n",
    "    data.fillna(\"Unknown\", inplace=True)\n",
    "    \n",
    "    # Remove duplicates\n",
    "    data.drop_duplicates(inplace=True)\n",
    "\n",
    "    # Handle missing values (drop rows with missing critical values)\n",
    "    data.dropna(inplace=True)\n",
    "    \n",
    "    # Feature Engineering: Create BMI column\n",
    "    data['BMI'] = data['Weight'] / (data['Height'] ** 2)\n",
    "    \n",
    "    lbl = LabelEncoder()\n",
    "    categorical_columns = [\n",
    "        'Gender', 'SMOKE', 'family_history_with_overweight',\n",
    "        'CALC', 'FAVC', 'SCC', 'CAEC', 'MTRANS', 'NObeyesdad'\n",
    "    ]\n",
    "    for col in categorical_columns:\n",
    "        data[col] = lbl.fit_transform(data[col])\n",
    "    \n",
    "    print(\"Data cleaning and feature engineering completed.\")\n",
    "    return data\n",
    "\n",
    "processed_data = clean_and_preprocess_data(obesity_data_from_db)\n",
    "print(\"Shape of data after cleaning:\", processed_data.shape)\n",
    "print(processed_data.head())\n",
    "processed_data.shape"
   ]
  },
  {
   "cell_type": "code",
   "execution_count": 17,
   "id": "56d249f1-645c-4cfe-999b-569fdf6c5b0c",
   "metadata": {},
   "outputs": [
    {
     "name": "stdout",
     "output_type": "stream",
     "text": [
      "Outliers in ['Age', 'Height', 'Weight', 'BMI', 'FCVC', 'NCP'] replaced with the median.\n",
      "    Age  Gender  Height  Weight  CALC  FAVC  FCVC  NCP  SCC  SMOKE  CH2O  \\\n",
      "0  21.0       0    1.62    64.0     3     0   2.0  3.0    0      0   2.0   \n",
      "1  21.0       0    1.52    56.0     2     0   3.0  3.0    1      1   3.0   \n",
      "2  23.0       1    1.80    77.0     1     0   2.0  3.0    0      0   2.0   \n",
      "3  27.0       1    1.80    87.0     1     0   3.0  3.0    0      0   2.0   \n",
      "4  22.0       1    1.78    89.8     2     0   2.0  1.0    0      0   2.0   \n",
      "\n",
      "   family_history_with_overweight  FAF  TUE  CAEC  MTRANS  NObeyesdad  \\\n",
      "0                               1  0.0  1.0     2       3           1   \n",
      "1                               1  3.0  0.0     2       3           1   \n",
      "2                               1  2.0  1.0     2       3           1   \n",
      "3                               0  2.0  0.0     2       4           5   \n",
      "4                               0  0.0  0.0     2       3           6   \n",
      "\n",
      "         BMI  \n",
      "0  24.386526  \n",
      "1  24.238227  \n",
      "2  23.765432  \n",
      "3  26.851852  \n",
      "4  28.342381  \n"
     ]
    }
   ],
   "source": [
    "def replace_outliers_with_median(data, columns):\n",
    "    for col in columns:\n",
    "        data['zscore_' + col] = zscore(data[col])\n",
    "        \n",
    "        outliers = data[(data['zscore_' + col] > 3) | (data['zscore_' + col] < -3)]\n",
    "        \n",
    "        # Replace outliers with the median value of the column\n",
    "        median_value = data[col].median()\n",
    "        data[col] = data.apply(lambda row: median_value if (abs(row['zscore_' + col]) > 3) else row[col], axis=1)\n",
    "        \n",
    "        # Drop the temporary z-score column\n",
    "        data.drop(columns=['zscore_' + col], inplace=True)\n",
    "\n",
    "    print(f\"Outliers in {columns} replaced with the median.\")\n",
    "    return data\n",
    "\n",
    "# Columns to check for outliers\n",
    "columns_to_check = ['Age', 'Height', 'Weight', 'BMI', 'FCVC', 'NCP']\n",
    "\n",
    "processed_data = replace_outliers_with_median(processed_data, columns_to_check)\n",
    "\n",
    "print(processed_data.head())"
   ]
  },
  {
   "cell_type": "code",
   "execution_count": null,
   "id": "23ec4683-b24f-4603-8c4f-cdcf4e5ccca8",
   "metadata": {},
   "outputs": [],
   "source": [
    "# Step 4: Graphs\n",
    "corr_matrix = processed_data.corr()\n",
    "\n",
    "plt.figure(figsize=(12, 10))\n",
    "sns.heatmap(corr_matrix, annot=True, cmap='coolwarm', fmt='.2f', linewidths=0.5, cbar=True)\n",
    "plt.title('Correlation Matrix Heatmap')\n",
    "plt.show()\n",
    "\n",
    "correlations_with_target = processed_data.corr()['NObeyesdad'].sort_values(ascending=False)\n",
    "print(\"Feature correlations with NObeyesdad:\")\n",
    "print(correlations_with_target)"
   ]
  },
  {
   "cell_type": "code",
   "execution_count": null,
   "id": "1b671d64-0fcf-48c7-a8fa-2c3adfa89131",
   "metadata": {},
   "outputs": [],
   "source": [
    "# Boxplots for Outlier Detection\n",
    "fig, axes = plt.subplots(2, 3, figsize=(15, 10))\n",
    "fig.suptitle(\"Boxplots of Numerical Features (Outlier Detection)\")\n",
    "\n",
    "numerical_columns = ['Age', 'Height', 'Weight', 'BMI', 'FCVC', 'NCP']\n",
    "for i, col in enumerate(numerical_columns):\n",
    "    sns.boxplot(data=processed_data[col], ax=axes[i // 3, i % 3])\n",
    "    axes[i // 3, i % 3].set_title(f\"Boxplot of {col}\")\n",
    "\n",
    "plt.tight_layout(rect=[0, 0, 1, 0.95])\n",
    "plt.show()"
   ]
  },
  {
   "cell_type": "code",
   "execution_count": 20,
   "id": "e7ac10c5-15c7-4cba-8e13-9794a276a08e",
   "metadata": {},
   "outputs": [
    {
     "data": {
      "image/png": "[encoded data removed]",
      "text/plain": [
       "<Figure size 640x480 with 1 Axes>"
      ]
     },
     "metadata": {},
     "output_type": "display_data"
    }
   ],
   "source": [
    "def physical_activity_obesity_correlation(db_name):\n",
    "    conn = sqlite3.connect(db_name)\n",
    "    query = \"\"\"\n",
    "    SELECT FAF, NObeyesdad\n",
    "    FROM obesity_data\n",
    "    \"\"\"\n",
    "    data = pd.read_sql_query(query, conn)\n",
    "    conn.close()\n",
    "    return data\n",
    "\n",
    "physical_activity_data = physical_activity_obesity_correlation(database_name)\n",
    "sns.boxplot(x='NObeyesdad', y='FAF', data=physical_activity_data)\n",
    "plt.title('Physical Activity vs Obesity Level')\n",
    "plt.xlabel('Obesity Level')\n",
    "plt.ylabel('Frequency of Physical Activity')\n",
    "\n",
    "plt.xticks(rotation=45, ha='right', rotation_mode='anchor', fontsize=10) \n",
    "plt.subplots_adjust(bottom=0.2)  \n",
    "\n",
    "plt.show()"
   ]
  },
  {
   "cell_type": "code",
   "execution_count": 21,
   "id": "4742d383-e3da-4d66-bbc8-6d2dee0398b1",
   "metadata": {},
   "outputs": [
    {
     "data": {
      "image/png": "[encoded data removed]",
      "text/plain": [
       "<Figure size 640x480 with 1 Axes>"
      ]
     },
     "metadata": {},
     "output_type": "display_data"
    }
   ],
   "source": [
    "# Target Variable Distribution\n",
    "sns.countplot(x='NObeyesdad', data=processed_data)\n",
    "plt.title('Distribution of Obesity Levels')\n",
    "plt.xlabel('Obesity Level')\n",
    "plt.ylabel('Count')\n",
    "plt.xticks(rotation=45)\n",
    "plt.show()"
   ]
  },
  {
   "cell_type": "code",
   "execution_count": null,
   "id": "6e80e1ae-2f0c-4807-bc12-6929fa0209d8",
   "metadata": {},
   "outputs": [],
   "source": [
    "# Pairplot to visualize relationships\n",
    "sns.pairplot(processed_data, vars=['Age', 'Height', 'Weight', 'BMI', 'FCVC'], hue='NObeyesdad', palette='Set2')\n",
    "plt.title('Pairplot of Key Features')\n",
    "plt.show()\n",
    "\n",
    "# Distribution of BMI\n",
    "sns.histplot(processed_data['BMI'], kde=True, bins=30)\n",
    "plt.title('Distribution of BMI')\n",
    "plt.xlabel('BMI')\n",
    "plt.ylabel('Frequency')\n",
    "plt.show()\n",
    "\n",
    "# Outliers in BMI by Obesity Level\n",
    "sns.boxplot(x='NObeyesdad', y='BMI', data=processed_data)\n",
    "plt.title('Boxplot of BMI by Obesity Level')\n",
    "plt.xlabel('Obesity Level')\n",
    "plt.ylabel('BMI')\n",
    "plt.xticks(rotation=45)\n",
    "plt.show()"
   ]
  },
  {
   "cell_type": "code",
   "execution_count": 23,
   "id": "10926c06-cf11-4909-a720-5af7f9a59aeb",
   "metadata": {},
   "outputs": [
    {
     "data": {
      "image/png": "[encoded data removed]",
      "text/plain": [
       "<Figure size 640x480 with 1 Axes>"
      ]
     },
     "metadata": {},
     "output_type": "display_data"
    }
   ],
   "source": [
    "sns.histplot(data=processed_data, x='BMI', hue='Gender', kde=True, bins=30, palette='pastel')\n",
    "plt.title('BMI Distribution by Gender')\n",
    "plt.xlabel('BMI')\n",
    "plt.ylabel('Frequency')\n",
    "plt.show()"
   ]
  },
  {
   "cell_type": "code",
   "execution_count": 24,
   "id": "3cb6d59e-abbd-4f51-9671-7864376b730e",
   "metadata": {},
   "outputs": [
    {
     "data": {
      "image/png": "[encoded data removed]",
      "text/plain": [
       "<Figure size 640x480 with 1 Axes>"
      ]
     },
     "metadata": {},
     "output_type": "display_data"
    }
   ],
   "source": [
    "sns.boxplot(x='NObeyesdad', y='Age', data=processed_data)\n",
    "plt.title('Age Distribution Across Obesity Levels')\n",
    "plt.xlabel('Obesity Level')\n",
    "plt.ylabel('Age')\n",
    "plt.xticks(rotation=45)\n",
    "plt.show()"
   ]
  },
  {
   "cell_type": "code",
   "execution_count": 25,
   "id": "1cefd554-b2a0-4aab-9ba3-c2c87c33ffaa",
   "metadata": {},
   "outputs": [],
   "source": [
    "# Step 5: Model Training\n",
    "\n",
    "y = processed_data['NObeyesdad']\n",
    "X = processed_data.drop(['NObeyesdad'], axis=1)\n",
    "\n",
    "# Feature scaling using StandardScaler\n",
    "scaler = StandardScaler()\n",
    "X_scaled = scaler.fit_transform(X)\n",
    "\n",
    "X_train, X_test, y_train, y_test = train_test_split(X_scaled, y, test_size=0.25, random_state=42, shuffle=True)"
   ]
  },
  {
   "cell_type": "code",
   "execution_count": 26,
   "id": "7cd92bb4-37f9-4d18-852c-bb67f56f0a0d",
   "metadata": {},
   "outputs": [
    {
     "name": "stdout",
     "output_type": "stream",
     "text": [
      "Logistic Regression Model Training Complete.\n"
     ]
    }
   ],
   "source": [
    "# Train logistic regression model\n",
    "logreg = LogisticRegression(max_iter=1000, random_state=42)\n",
    "logreg.fit(X_train, y_train)\n",
    "\n",
    "logreg_preds = logreg.predict(X_test)\n",
    "\n",
    "print(\"Logistic Regression Model Training Complete.\")"
   ]
  },
  {
   "cell_type": "code",
   "execution_count": 27,
   "id": "8e8c8677-5538-4561-a15c-18be8a565c39",
   "metadata": {},
   "outputs": [
    {
     "name": "stdout",
     "output_type": "stream",
     "text": [
      "Random Forest Model Training Complete.\n"
     ]
    }
   ],
   "source": [
    "# Train random forest model\n",
    "rf = RandomForestClassifier(n_estimators=100, random_state=42)\n",
    "rf.fit(X_train, y_train)\n",
    "\n",
    "rf_preds = rf.predict(X_test)\n",
    "\n",
    "print(\"Random Forest Model Training Complete.\")"
   ]
  },
  {
   "cell_type": "code",
   "execution_count": 28,
   "id": "ebcd7cf6-8de2-4a31-b312-d63f40c19354",
   "metadata": {},
   "outputs": [
    {
     "name": "stdout",
     "output_type": "stream",
     "text": [
      "K-Nearest Neighbors Model Training Complete.\n"
     ]
    }
   ],
   "source": [
    "# Train K-Nearest Neighbors Model\n",
    "knn = KNeighborsClassifier(n_neighbors=5)  # Use k=5 for simplicity\n",
    "knn.fit(X_train, y_train)\n",
    "\n",
    "knn_preds = knn.predict(X_test)\n",
    "print(\"K-Nearest Neighbors Model Training Complete.\")"
   ]
  },
  {
   "cell_type": "code",
   "execution_count": 29,
   "id": "650c269d-fc66-47a4-83a7-fa6a8500efd9",
   "metadata": {},
   "outputs": [
    {
     "name": "stdout",
     "output_type": "stream",
     "text": [
      "Logistic Regression Performance:\n",
      "              precision    recall  f1-score   support\n",
      "\n",
      "           0       0.88      0.97      0.92        74\n",
      "           1       0.92      0.74      0.82        76\n",
      "           2       0.95      0.92      0.93        85\n",
      "           3       0.96      1.00      0.98        82\n",
      "           4       0.99      1.00      0.99        77\n",
      "           5       0.77      0.77      0.77        71\n",
      "           6       0.75      0.82      0.78        57\n",
      "\n",
      "    accuracy                           0.89       522\n",
      "   macro avg       0.89      0.89      0.89       522\n",
      "weighted avg       0.90      0.89      0.89       522\n",
      "\n",
      "Accuracy: 0.89\n",
      "Random Forest Performance:\n",
      "              precision    recall  f1-score   support\n",
      "\n",
      "           0       0.99      0.99      0.99        74\n",
      "           1       0.99      0.99      0.99        76\n",
      "           2       1.00      1.00      1.00        85\n",
      "           3       1.00      1.00      1.00        82\n",
      "           4       1.00      1.00      1.00        77\n",
      "           5       1.00      0.97      0.99        71\n",
      "           6       0.97      1.00      0.98        57\n",
      "\n",
      "    accuracy                           0.99       522\n",
      "   macro avg       0.99      0.99      0.99       522\n",
      "weighted avg       0.99      0.99      0.99       522\n",
      "\n",
      "Accuracy: 0.99\n",
      "K-Nearest Neighbors Performance:\n",
      "              precision    recall  f1-score   support\n",
      "\n",
      "           0       0.73      0.92      0.81        74\n",
      "           1       0.61      0.41      0.49        76\n",
      "           2       0.79      0.88      0.83        85\n",
      "           3       0.95      0.99      0.97        82\n",
      "           4       0.99      1.00      0.99        77\n",
      "           5       0.89      0.72      0.80        71\n",
      "           6       0.70      0.77      0.73        57\n",
      "\n",
      "    accuracy                           0.82       522\n",
      "   macro avg       0.81      0.81      0.80       522\n",
      "weighted avg       0.81      0.82      0.81       522\n",
      "\n",
      "Accuracy: 0.82\n"
     ]
    }
   ],
   "source": [
    "# Step 6: Model Evaluation \n",
    "\n",
    "# Evaluate Logistic Regression\n",
    "print(\"Logistic Regression Performance:\")\n",
    "print(classification_report(y_test, logreg_preds))\n",
    "print(f\"Accuracy: {accuracy_score(y_test, logreg_preds):.2f}\")\n",
    "\n",
    "# Evaluate Random Forest\n",
    "print(\"Random Forest Performance:\")\n",
    "print(classification_report(y_test, rf_preds))\n",
    "print(f\"Accuracy: {accuracy_score(y_test, rf_preds):.2f}\")\n",
    "\n",
    "# Evaluate K-Nearest Neighbors\n",
    "print(\"K-Nearest Neighbors Performance:\")\n",
    "print(classification_report(y_test, knn_preds))\n",
    "print(f\"Accuracy: {accuracy_score(y_test, knn_preds):.2f}\")"
   ]
  },
  {
   "cell_type": "code",
   "execution_count": 30,
   "id": "f7813774-6044-4b31-8464-8274554f0326",
   "metadata": {},
   "outputs": [
    {
     "name": "stdout",
     "output_type": "stream",
     "text": [
      "Classification Report for K-Nearest Neighbors with Grid Search:\n",
      "              precision    recall  f1-score   support\n",
      "\n",
      "           0       0.95      0.97      0.96        74\n",
      "           1       0.80      0.63      0.71        76\n",
      "           2       0.89      0.95      0.92        85\n",
      "           3       0.99      1.00      0.99        82\n",
      "           4       1.00      1.00      1.00        77\n",
      "           5       0.83      0.82      0.82        71\n",
      "           6       0.80      0.91      0.85        57\n",
      "\n",
      "    accuracy                           0.90       522\n",
      "   macro avg       0.89      0.90      0.89       522\n",
      "weighted avg       0.90      0.90      0.90       522\n",
      "\n",
      "Best parameters from GridSearchCV: {'metric': 'manhattan', 'n_neighbors': 3, 'weights': 'distance'}\n",
      "Best score from GridSearchCV: 0.9009584664536743\n"
     ]
    }
   ],
   "source": [
    "# Step 7: Model Optmization for Random Forest\n",
    "param_grid = {\n",
    "    'n_neighbors': [3, 5, 7, 9, 11],       \n",
    "    'metric': ['euclidean', 'manhattan'],  \n",
    "    'weights': ['uniform', 'distance']     \n",
    "}\n",
    "\n",
    "# Perform grid search with 5-fold cross-validation\n",
    "grid_search = GridSearchCV(KNeighborsClassifier(), param_grid, cv=5, n_jobs=-1)\n",
    "grid_search.fit(X_train, y_train)\n",
    "\n",
    "# Get the best model after grid search\n",
    "best_knn = grid_search.best_estimator_\n",
    "\n",
    "knn_preds = best_knn.predict(X_test)\n",
    "\n",
    "# Print the classification report\n",
    "print(\"Classification Report for K-Nearest Neighbors with Grid Search:\")\n",
    "print(classification_report(y_test, knn_preds))\n",
    "\n",
    "# Optionally, print the best parameters and best score from grid search\n",
    "print(f\"Best parameters from GridSearchCV: {grid_search.best_params_}\")\n",
    "print(f\"Best score from GridSearchCV: {grid_search.best_score_}\")"
   ]
  }
 ],
 "metadata": {
  "kernelspec": {
   "display_name": "Python 3 (ipykernel)",
   "language": "python",
   "name": "python3"
  },
  "language_info": {
   "codemirror_mode": {
    "name": "ipython",
    "version": 3
   },
   "file_extension": ".py",
   "mimetype": "text/x-python",
   "name": "python",
   "nbconvert_exporter": "python",
   "pygments_lexer": "ipython3",
   "version": "3.12.2"
  }
 },
 "nbformat": 4,
 "nbformat_minor": 5
}
